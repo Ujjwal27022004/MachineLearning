{
 "cells": [
  {
   "cell_type": "code",
   "execution_count": 6,
   "metadata": {
    "scrolled": true
   },
   "outputs": [
    {
     "name": "stdout",
     "output_type": "stream",
     "text": [
      "    sr  cgpa     iq  placement\n",
      "0    0   6.8  123.0        1.0\n",
      "1    1   5.9  106.0        0.0\n",
      "2    2   5.3  121.0        0.0\n",
      "3    3   7.4  132.0        1.0\n",
      "4    4   5.8  142.0        0.0\n",
      "..  ..   ...    ...        ...\n",
      "95  95   4.3  200.0        0.0\n",
      "96  96   4.4   42.0        0.0\n",
      "97  97   6.7  182.0        1.0\n",
      "98  98   6.3  103.0        1.0\n",
      "99  99   6.2  113.0        1.0\n",
      "\n",
      "[100 rows x 4 columns]\n"
     ]
    }
   ],
   "source": [
    "import pandas as pd\n",
    "df = pd.read_csv('placement-dataset.csv')\n",
    "\n",
    "print(df)\n"
   ]
  },
  {
   "cell_type": "code",
   "execution_count": 16,
   "metadata": {
    "jupyter": {
     "source_hidden": true
    }
   },
   "outputs": [
    {
     "data": {
      "text/plain": [
       "sr           0\n",
       "cgpa         1\n",
       "iq           0\n",
       "placement    2\n",
       "dtype: int64"
      ]
     },
     "execution_count": 16,
     "metadata": {},
     "output_type": "execute_result"
    }
   ],
   "source": [
    "df.isnull().sum()"
   ]
  },
  {
   "cell_type": "code",
   "execution_count": 7,
   "metadata": {},
   "outputs": [
    {
     "name": "stdout",
     "output_type": "stream",
     "text": [
      "sr           100\n",
      "cgpa          99\n",
      "iq           100\n",
      "placement     98\n",
      "dtype: int64\n"
     ]
    }
   ],
   "source": [
    "print(df.notnull().sum())"
   ]
  },
  {
   "cell_type": "code",
   "execution_count": 8,
   "metadata": {},
   "outputs": [
    {
     "name": "stdout",
     "output_type": "stream",
     "text": [
      "    sr  cgpa     iq  placement\n",
      "0    0   6.8  123.0        1.0\n",
      "1    1   5.9  106.0        0.0\n",
      "2    2   5.3  121.0        0.0\n",
      "3    3   7.4  132.0        1.0\n",
      "4    4   5.8  142.0        0.0\n",
      "..  ..   ...    ...        ...\n",
      "95  95   4.3  200.0        0.0\n",
      "96  96   4.4   42.0        0.0\n",
      "97  97   6.7  182.0        1.0\n",
      "98  98   6.3  103.0        1.0\n",
      "99  99   6.2  113.0        1.0\n",
      "\n",
      "[97 rows x 4 columns]\n",
      "sr           97\n",
      "cgpa         97\n",
      "iq           97\n",
      "placement    97\n",
      "dtype: int64\n"
     ]
    }
   ],
   "source": [
    "\n",
    "\n",
    "df_cleaned = df.dropna()\n",
    "print(df_cleaned)\n",
    "print(df_cleaned.notnull().sum())\n"
   ]
  },
  {
   "cell_type": "code",
   "execution_count": 10,
   "metadata": {},
   "outputs": [
    {
     "name": "stdout",
     "output_type": "stream",
     "text": [
      "    sr  cgpa     iq  placement\n",
      "0    0   6.8  123.0        1.0\n",
      "1    1   5.9  106.0        0.0\n",
      "2    2   5.3  121.0        0.0\n",
      "3    3   7.4  132.0        1.0\n",
      "4    4   5.8  142.0        0.0\n",
      "..  ..   ...    ...        ...\n",
      "95  95   4.3  200.0        0.0\n",
      "96  96   4.4   42.0        0.0\n",
      "97  97   6.7  182.0        1.0\n",
      "98  98   6.3  103.0        1.0\n",
      "99  99   6.2  113.0        1.0\n",
      "\n",
      "[100 rows x 4 columns]\n",
      "sr           100\n",
      "cgpa         100\n",
      "iq           100\n",
      "placement    100\n",
      "dtype: int64\n"
     ]
    }
   ],
   "source": [
    "df_filled = df.fillna(0)\n",
    "print(df_filled)\n",
    "print(df_filled.notnull().sum())\n",
    "\n"
   ]
  },
  {
   "cell_type": "code",
   "execution_count": 11,
   "metadata": {},
   "outputs": [
    {
     "name": "stdout",
     "output_type": "stream",
     "text": [
      "    sr  cgpa     iq  placement\n",
      "0    0   6.8  123.0        1.0\n",
      "1    1   5.9  106.0        0.0\n",
      "2    2   5.3  121.0        0.0\n",
      "3    3   7.4  132.0        1.0\n",
      "4    4   5.8  142.0        0.0\n",
      "..  ..   ...    ...        ...\n",
      "95  95   4.3  200.0        0.0\n",
      "96  96   4.4   42.0        0.0\n",
      "97  97   6.7  182.0        1.0\n",
      "98  98   6.3  103.0        1.0\n",
      "99  99   6.2  113.0        1.0\n",
      "\n",
      "[100 rows x 4 columns]\n"
     ]
    }
   ],
   "source": [
    "df_replaced = df.replace('0', '1')\n",
    "print(df_replaced)"
   ]
  },
  {
   "cell_type": "code",
   "execution_count": 12,
   "metadata": {},
   "outputs": [
    {
     "name": "stdout",
     "output_type": "stream",
     "text": [
      "    sr  cgpa     iq  placement\n",
      "0    0   6.8  123.0        1.0\n",
      "1    1   5.9  106.0        0.0\n",
      "2    2   5.3  121.0        0.0\n",
      "3    3   7.4  132.0        1.0\n",
      "4    4   5.8  142.0        0.0\n",
      "..  ..   ...    ...        ...\n",
      "95  95   4.3  200.0        0.0\n",
      "96  96   4.4   42.0        0.0\n",
      "97  97   6.7  182.0        1.0\n",
      "98  98   6.3  103.0        1.0\n",
      "99  99   6.2  113.0        1.0\n",
      "\n",
      "[100 rows x 4 columns]\n"
     ]
    }
   ],
   "source": [
    "df_interpolated = df.interpolate()\n",
    "print(df_interpolated)\n"
   ]
  },
  {
   "cell_type": "code",
   "execution_count": 14,
   "metadata": {},
   "outputs": [
    {
     "name": "stdout",
     "output_type": "stream",
     "text": [
      "       sr   cgpa     iq  placement\n",
      "0   False  False  False      False\n",
      "1   False  False  False      False\n",
      "2   False  False  False      False\n",
      "3   False  False  False      False\n",
      "4   False  False  False      False\n",
      "..    ...    ...    ...        ...\n",
      "95  False  False  False      False\n",
      "96  False  False  False      False\n",
      "97  False  False  False      False\n",
      "98  False  False  False      False\n",
      "99  False  False  False      False\n",
      "\n",
      "[100 rows x 4 columns]\n"
     ]
    }
   ],
   "source": [
    "nan_bool_series = pd.isna(df)\n",
    "print(nan_bool_series)"
   ]
  },
  {
   "cell_type": "code",
   "execution_count": 23,
   "metadata": {},
   "outputs": [
    {
     "name": "stdout",
     "output_type": "stream",
     "text": [
      "    sr  cgpa     iq  placement\n",
      "0    0   6.8  123.0        1.0\n",
      "3    3   7.4  132.0        1.0\n",
      "5    5   7.1   48.0        1.0\n",
      "8    8   6.1  156.0        0.0\n",
      "11  11   6.9  138.0        1.0\n",
      "13  13   6.4  116.0        1.0\n",
      "14  14   6.1  103.0        0.0\n",
      "20  20   6.6  120.0        1.0\n",
      "21  21   7.1  151.0        1.0\n",
      "26  26   7.0  199.0        1.0\n",
      "29  29   7.0  112.0        1.0\n",
      "30  30   7.6  128.0        1.0\n",
      "32  32   7.0  139.0        1.0\n",
      "35  35   6.8   90.0        1.0\n",
      "37  37   8.1  149.0        1.0\n",
      "38  38   6.5  160.0        1.0\n",
      "42  42   7.6   89.0        1.0\n",
      "43  43   6.8  141.0        1.0\n",
      "44  44   7.5   61.0        1.0\n",
      "48  48   6.6  138.0        1.0\n",
      "52  52   7.0  175.0        1.0\n",
      "53  53   8.3  168.0        1.0\n",
      "54  54   6.4  141.0        1.0\n",
      "55  55   7.8  114.0        1.0\n",
      "56  56   6.1   65.0        0.0\n",
      "57  57   6.5  130.0        1.0\n",
      "58  58   8.0   79.0        1.0\n",
      "60  60   6.9  139.0        1.0\n",
      "61  61   7.3  137.0        1.0\n",
      "63  63   6.3  128.0        1.0\n",
      "64  64   7.0   64.0        1.0\n",
      "65  65   8.1  166.0        1.0\n",
      "66  66   6.9   96.0        1.0\n",
      "69  69   8.5  120.0        1.0\n",
      "70  70   6.3  127.0        1.0\n",
      "71  71   6.1  132.0        1.0\n",
      "72  72   7.3  116.0        1.0\n",
      "74  74   6.7  154.0        1.0\n",
      "77  77   7.3   50.0        1.0\n",
      "78  78   6.1   81.0        0.0\n",
      "79  79   6.5   90.0        1.0\n",
      "82  82   6.5   37.0        1.0\n",
      "83  83   7.5  130.0        1.0\n",
      "90  90   7.3   86.0        1.0\n",
      "91  91   7.5  158.0        1.0\n",
      "93  93   6.8  112.0        1.0\n",
      "97  97   6.7  182.0        1.0\n",
      "98  98   6.3  103.0        1.0\n",
      "99  99   6.2  113.0        1.0\n"
     ]
    }
   ],
   "source": [
    "filtered_data = df[df['cgpa'] > 6]\n",
    "print(filtered_data)"
   ]
  },
  {
   "cell_type": "code",
   "execution_count": 25,
   "metadata": {},
   "outputs": [
    {
     "name": "stdout",
     "output_type": "stream",
     "text": [
      "{'sr': [1, 2, 3, 4, 5, 6], 'cgpa': [6.8, 5.9, 5.3, 7.4, 5.8, 7.1], 'iq': [123.0, 106.0, 121.0, 132.0, 142.0, 48.0], 'placement': [1, 0, 0, 1, 0, 1]}\n"
     ]
    }
   ],
   "source": [
    "data_dict = {\n",
    "    'sr': [1, 2, 3, 4, 5, 6],\n",
    "    'cgpa': [6.8, 5.9, 5.3, 7.4, 5.8, 7.1],\n",
    "    'iq': [123.0, 106.0, 121.0, 132.0, 142.0, 48.0],\n",
    "    'placement': [1, 0, 0, 1, 0, 1]\n",
    "}\n",
    "print(data_dict)"
   ]
  },
  {
   "cell_type": "code",
   "execution_count": 26,
   "metadata": {},
   "outputs": [
    {
     "name": "stdout",
     "output_type": "stream",
     "text": [
      "   sr  cgpa     iq  placement\n",
      "0   1   6.8  123.0          1\n",
      "1   2   5.9  106.0          0\n",
      "2   3   5.3  121.0          0\n",
      "3   4   7.4  132.0          1\n",
      "4   5   5.8  142.0          0\n",
      "5   6   7.1   48.0          1\n"
     ]
    }
   ],
   "source": [
    "new_df = pd.DataFrame(data_dict)\n",
    "print(new_df)"
   ]
  },
  {
   "cell_type": "code",
   "execution_count": 27,
   "metadata": {},
   "outputs": [
    {
     "name": "stdout",
     "output_type": "stream",
     "text": [
      "   sr  cgpa     iq  placement\n",
      "0   1   6.8  123.0          1\n",
      "1   2   5.9  106.0          0\n",
      "2   3   5.3  121.0          0\n",
      "3   4   7.4  132.0          1\n",
      "4   5   5.8  142.0          0\n",
      "5   6   7.1   48.0          1\n"
     ]
    }
   ],
   "source": [
    "new_df_filled = new_df.fillna(0)\n",
    "print(new_df_filled)"
   ]
  },
  {
   "cell_type": "code",
   "execution_count": null,
   "metadata": {},
   "outputs": [],
   "source": []
  }
 ],
 "metadata": {
  "kernelspec": {
   "display_name": "Python 3 (ipykernel)",
   "language": "python",
   "name": "python3"
  },
  "language_info": {
   "codemirror_mode": {
    "name": "ipython",
    "version": 3
   },
   "file_extension": ".py",
   "mimetype": "text/x-python",
   "name": "python",
   "nbconvert_exporter": "python",
   "pygments_lexer": "ipython3",
   "version": "3.11.4"
  }
 },
 "nbformat": 4,
 "nbformat_minor": 4
}
