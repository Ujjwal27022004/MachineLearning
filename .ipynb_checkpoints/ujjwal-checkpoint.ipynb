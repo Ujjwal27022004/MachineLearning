{
 "cells": [
  {
   "cell_type": "code",
   "execution_count": 4,
   "metadata": {
    "scrolled": true
   },
   "outputs": [
    {
     "ename": "ModuleNotFoundError",
     "evalue": "No module named 'panda'",
     "output_type": "error",
     "traceback": [
      "\u001b[1;31m---------------------------------------------------------------------------\u001b[0m",
      "\u001b[1;31mModuleNotFoundError\u001b[0m                       Traceback (most recent call last)",
      "Cell \u001b[1;32mIn[4], line 1\u001b[0m\n\u001b[1;32m----> 1\u001b[0m \u001b[38;5;28;01mimport\u001b[39;00m \u001b[38;5;21;01mpanda\u001b[39;00m \u001b[38;5;28;01mas\u001b[39;00m \u001b[38;5;21;01mpd\u001b[39;00m\n\u001b[0;32m      2\u001b[0m df \u001b[38;5;241m=\u001b[39m pd\u001b[38;5;241m.\u001b[39mread_csv(\u001b[38;5;124m'\u001b[39m\u001b[38;5;124mplacement-dataset.csv\u001b[39m\u001b[38;5;124m'\u001b[39m)\n\u001b[0;32m      4\u001b[0m \u001b[38;5;28mprint\u001b[39m(df)\n",
      "\u001b[1;31mModuleNotFoundError\u001b[0m: No module named 'panda'"
     ]
    }
   ],
   "source": [
    "import pandas as pd\n",
    "df = pd.read_csv('placement-dataset.csv')\n",
    "\n",
    "print(df)\n"
   ]
  },
  {
   "cell_type": "code",
   "execution_count": 16,
   "metadata": {
    "jupyter": {
     "source_hidden": true
    }
   },
   "outputs": [
    {
     "data": {
      "text/plain": [
       "sr           0\n",
       "cgpa         1\n",
       "iq           0\n",
       "placement    2\n",
       "dtype: int64"
      ]
     },
     "execution_count": 16,
     "metadata": {},
     "output_type": "execute_result"
    }
   ],
   "source": [
    "df.isnull().sum()"
   ]
  },
  {
   "cell_type": "code",
   "execution_count": 18,
   "metadata": {},
   "outputs": [
    {
     "name": "stdout",
     "output_type": "stream",
     "text": [
      "sr           100\n",
      "cgpa          99\n",
      "iq           100\n",
      "placement     98\n",
      "dtype: int64\n"
     ]
    }
   ],
   "source": [
    "print(df.notnull().sum())"
   ]
  },
  {
   "cell_type": "code",
   "execution_count": 23,
   "metadata": {},
   "outputs": [
    {
     "name": "stdout",
     "output_type": "stream",
     "text": [
      "    sr  cgpa     iq  placement\n",
      "0    0   6.8  123.0        1.0\n",
      "1    1   5.9  106.0        0.0\n",
      "2    2   5.3  121.0        0.0\n",
      "3    3   7.4  132.0        1.0\n",
      "4    4   5.8  142.0        0.0\n",
      "..  ..   ...    ...        ...\n",
      "95  95   4.3  200.0        0.0\n",
      "96  96   4.4   42.0        0.0\n",
      "97  97   6.7  182.0        1.0\n",
      "98  98   6.3  103.0        1.0\n",
      "99  99   6.2  113.0        1.0\n",
      "\n",
      "[97 rows x 4 columns]\n",
      "sr           97\n",
      "cgpa         97\n",
      "iq           97\n",
      "placement    97\n",
      "dtype: int64\n"
     ]
    }
   ],
   "source": [
    "\n",
    "\n",
    "df_cleaned = df.dropna()\n",
    "print(df_cleaned)\n",
    "print(df_cleaned.notnull().sum())\n"
   ]
  },
  {
   "cell_type": "code",
   "execution_count": 27,
   "metadata": {},
   "outputs": [
    {
     "name": "stdout",
     "output_type": "stream",
     "text": [
      "    sr  cgpa     iq  placement\n",
      "0    0   6.8  123.0        1.0\n",
      "1    1   5.9  106.0        0.0\n",
      "2    2   5.3  121.0        0.0\n",
      "3    3   7.4  132.0        1.0\n",
      "4    4   5.8  142.0        0.0\n",
      "..  ..   ...    ...        ...\n",
      "95  95   4.3  200.0        0.0\n",
      "96  96   4.4   42.0        0.0\n",
      "97  97   6.7  182.0        1.0\n",
      "98  98   6.3  103.0        1.0\n",
      "99  99   6.2  113.0        1.0\n",
      "\n",
      "[100 rows x 4 columns]\n",
      "sr           100\n",
      "cgpa         100\n",
      "iq           100\n",
      "placement    100\n",
      "dtype: int64\n"
     ]
    }
   ],
   "source": [
    "df_filled = df.fillna(0)\n",
    "print(df_filled)\n",
    "print(df_filled.notnull().sum())\n",
    "\n"
   ]
  },
  {
   "cell_type": "code",
   "execution_count": 28,
   "metadata": {},
   "outputs": [
    {
     "name": "stdout",
     "output_type": "stream",
     "text": [
      "    sr  cgpa     iq  placement\n",
      "0    0   6.8  123.0        1.0\n",
      "1    1   5.9  106.0        0.0\n",
      "2    2   5.3  121.0        0.0\n",
      "3    3   7.4  132.0        1.0\n",
      "4    4   5.8  142.0        0.0\n",
      "..  ..   ...    ...        ...\n",
      "95  95   4.3  200.0        0.0\n",
      "96  96   4.4   42.0        0.0\n",
      "97  97   6.7  182.0        1.0\n",
      "98  98   6.3  103.0        1.0\n",
      "99  99   6.2  113.0        1.0\n",
      "\n",
      "[100 rows x 4 columns]\n"
     ]
    }
   ],
   "source": [
    "df_replaced = df.replace('0', '1')\n",
    "print(df_replaced)"
   ]
  },
  {
   "cell_type": "code",
   "execution_count": 1,
   "metadata": {},
   "outputs": [
    {
     "ename": "NameError",
     "evalue": "name 'df' is not defined",
     "output_type": "error",
     "traceback": [
      "\u001b[1;31m---------------------------------------------------------------------------\u001b[0m",
      "\u001b[1;31mNameError\u001b[0m                                 Traceback (most recent call last)",
      "Cell \u001b[1;32mIn[1], line 1\u001b[0m\n\u001b[1;32m----> 1\u001b[0m df_interpolated \u001b[38;5;241m=\u001b[39m \u001b[43mdf\u001b[49m\u001b[38;5;241m.\u001b[39minterpolate()\n\u001b[0;32m      2\u001b[0m \u001b[38;5;28mprint\u001b[39m(df_interpolated)\n",
      "\u001b[1;31mNameError\u001b[0m: name 'df' is not defined"
     ]
    }
   ],
   "source": [
    "df_interpolated = df.interpolate()\n",
    "print(df_interpolated)\n"
   ]
  },
  {
   "cell_type": "code",
   "execution_count": null,
   "metadata": {},
   "outputs": [],
   "source": []
  }
 ],
 "metadata": {
  "kernelspec": {
   "display_name": "Python 3 (ipykernel)",
   "language": "python",
   "name": "python3"
  },
  "language_info": {
   "codemirror_mode": {
    "name": "ipython",
    "version": 3
   },
   "file_extension": ".py",
   "mimetype": "text/x-python",
   "name": "python",
   "nbconvert_exporter": "python",
   "pygments_lexer": "ipython3",
   "version": "3.12.1"
  }
 },
 "nbformat": 4,
 "nbformat_minor": 4
}
